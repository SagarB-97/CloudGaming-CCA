{
 "cells": [
  {
   "cell_type": "code",
   "execution_count": null,
   "metadata": {},
   "outputs": [],
   "source": [
    "import plotly.graph_objects as go\n",
    "import pandas as pd\n",
    "import numpy as np\n",
    "from plotly.subplots import make_subplots"
   ]
  },
  {
   "cell_type": "code",
   "execution_count": null,
   "metadata": {},
   "outputs": [],
   "source": [
    "flow_grind_df = pd.read_csv(f'../saved_data/bbr_50ms_2flows/fg_4.csv')\n",
    "\n",
    "fig = go.Figure()\n",
    "for flow in flow_grind_df['flow'].unique()[:20]:\n",
    "    this_flow = flow_grind_df[flow_grind_df['flow'] == flow]\n",
    "    fig.add_trace(go.Scatter(x = this_flow['time'], \n",
    "                             y = this_flow['thru(Mbps)'].ewm(span = 100).mean(), \n",
    "                             name = str(flow)))\n",
    "fig.update_xaxes(title = 'Time (s)')\n",
    "fig.update_yaxes(title = 'Throughput (Mbps)')\n",
    "fig.show()"
   ]
  },
  {
   "cell_type": "code",
   "execution_count": null,
   "metadata": {},
   "outputs": [],
   "source": [
    "folder = '../saved_data/bbr_sync_50ms_2flows'\n",
    "\n",
    "fig = make_subplots(rows=5, cols=2, \n",
    "                    x_title = 'Time (s)', y_title = 'Throughput (Mbps)', \n",
    "                    shared_xaxes = True)\n",
    "\n",
    "for run in range(1, 11):\n",
    "    flow_grind_df = pd.read_csv(f'{folder}/fg_{run}.csv')\n",
    "    for flow in flow_grind_df['flow'].unique()[:10]:\n",
    "        this_flow = flow_grind_df[flow_grind_df['flow'] == flow]\n",
    "        fig.add_trace(go.Scatter(x = this_flow['time'], \n",
    "                                 y = this_flow['thru(Mbps)'].ewm(span = 100).mean(), \n",
    "                                 name = str(flow)), \n",
    "                      row = (run-1)%5 + 1, col = (run-1) // 5 + 1)\n",
    "# fig.update_xaxes(title = 'Time (s)')\n",
    "# fig.update_yaxes(title = 'Throughput (Mbps)')\n",
    "fig.update_yaxes(range = (0, 100))\n",
    "fig.update(layout_showlegend = False)\n",
    "fig.show()"
   ]
  },
  {
   "cell_type": "code",
   "execution_count": null,
   "metadata": {},
   "outputs": [],
   "source": [
    "def jains(arr):\n",
    "    arr = np.array(arr)\n",
    "    if not arr.any(): ## If all are zeros\n",
    "        return 1.0\n",
    "    return arr.mean()**2 / (arr**2).mean()\n",
    "\n",
    "fig = make_subplots(rows=5, cols=2, \n",
    "                    x_title = 'Time (s)', y_title = 'Jains Fairness', \n",
    "                    shared_xaxes = True)\n",
    "\n",
    "for run in range(1, 11):\n",
    "    flow_grind_df = pd.read_csv(f'{folder}/fg_{run}.csv')\n",
    "    jains_index = flow_grind_df.groupby('time')['thru(Mbps)'].agg(jains)\n",
    "    fig.add_trace(go.Scatter(x = jains_index.index, \n",
    "                             y = pd.Series(jains_index.values).ewm(span = 100).mean(), \n",
    "                             name = str(flow)), \n",
    "                  row = (run-1)%5 + 1, col = (run-1) // 5 + 1)\n",
    "# fig.update_xaxes(title = 'Time (s)')\n",
    "# fig.update_yaxes(title = 'Throughput (Mbps)')\n",
    "# fig.update_yaxes(range = (0, 30))\n",
    "fig.update(layout_showlegend = False)\n",
    "fig.show()"
   ]
  },
  {
   "cell_type": "code",
   "execution_count": null,
   "metadata": {},
   "outputs": [],
   "source": [
    "## Compare average JFIs\n",
    "folder1 = '../saved_data/bbr_sync_20ms_10flows'\n",
    "folder2 = '../saved_data/bbr_20ms_10flows'\n",
    "cutoff_start_time = 5\n",
    "\n",
    "def get_mean_JFI(folder):\n",
    "    jains_indices = []\n",
    "    for run in range(1, 11):\n",
    "        flow_grind_df = pd.read_csv(f'{folder}/fg_{run}.csv')\n",
    "        jains_index = flow_grind_df.groupby('time')['thru(Mbps)'].agg(jains)\n",
    "        jains_index.index = np.around(jains_index.index, 1)\n",
    "        jains_indices.append(jains_index)\n",
    "\n",
    "    mean_j = jains_indices[0]\n",
    "    ctr = 1\n",
    "    for j in range(1, len(jains_indices)):\n",
    "        ctr += 1\n",
    "        mean_j = mean_j + jains_indices[j]\n",
    "    mean_j /= ctr\n",
    "    return mean_j\n",
    "\n",
    "jfi_1 = get_mean_JFI(folder1)\n",
    "jfi_2 = get_mean_JFI(folder2)\n",
    "\n",
    "jfi_1 = jfi_1[jfi_1.index > cutoff_start_time]\n",
    "jfi_2 = jfi_2[jfi_2.index > cutoff_start_time]\n",
    "\n",
    "fig = go.Figure()\n",
    "fig.add_trace(go.Scatter(x = jfi_1.index, \n",
    "                         y = pd.Series(jfi_1.values).ewm(span = 100).mean(), \n",
    "                         name = folder1))\n",
    "fig.add_trace(go.Scatter(x = jfi_2.index, \n",
    "                         y = pd.Series(jfi_2.values).ewm(span = 100).mean(), \n",
    "                         name = folder2))\n",
    "fig.update_xaxes(title = 'Time (s)')\n",
    "fig.update_yaxes(title = 'JFI')\n",
    "fig.show()"
   ]
  }
 ],
 "metadata": {
  "kernelspec": {
   "display_name": "Python 3",
   "language": "python",
   "name": "python3"
  },
  "language_info": {
   "codemirror_mode": {
    "name": "ipython",
    "version": 3
   },
   "file_extension": ".py",
   "mimetype": "text/x-python",
   "name": "python",
   "nbconvert_exporter": "python",
   "pygments_lexer": "ipython3",
   "version": "3.6.9"
  }
 },
 "nbformat": 4,
 "nbformat_minor": 2
}
